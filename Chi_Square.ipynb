{
  "nbformat": 4,
  "nbformat_minor": 0,
  "metadata": {
    "colab": {
      "provenance": [],
      "authorship_tag": "ABX9TyNtaYFpF47yY7ObovFuRZxD",
      "include_colab_link": true
    },
    "kernelspec": {
      "name": "python3",
      "display_name": "Python 3"
    },
    "language_info": {
      "name": "python"
    }
  },
  "cells": [
    {
      "cell_type": "markdown",
      "metadata": {
        "id": "view-in-github",
        "colab_type": "text"
      },
      "source": [
        "<a href=\"https://colab.research.google.com/github/revanth8607/COURSE/blob/main/Chi_Square.ipynb\" target=\"_parent\"><img src=\"https://colab.research.google.com/assets/colab-badge.svg\" alt=\"Open In Colab\"/></a>"
      ]
    },
    {
      "cell_type": "code",
      "execution_count": 1,
      "metadata": {
        "id": "kocZK0MyS6LQ"
      },
      "outputs": [],
      "source": [
        "from scipy.stats import chi2_contingency\n",
        "\n",
        "observed_data = [[10, 20, 30],\n",
        "[15, 25, 35]]"
      ]
    },
    {
      "cell_type": "code",
      "source": [
        "chi2_statistic, pval, degrees_of_freedom, expected_frequencies = chi2_contingency(observed_data)\n",
        "print(\"Chi-square statistic:\", chi2_statistic)\n",
        "print(\"P-value:\", pval)\n",
        "print(\"Degrees of freedom:\", degrees_of_freedom)\n",
        "print(\"Expected frequencies:\", expected_frequencies)\n",
        "# Interpretation\n",
        "if pval < 0.05:\n",
        "  print(\"Reject null hypothesis, there's a statistically significant relation ship (p-value =\", pval, \").\")\n",
        "else:\n",
        "  print(\"Fail to reject null hypothesis, no significant relation ship found (p-value =\", pval, \").\")"
      ],
      "metadata": {
        "colab": {
          "base_uri": "https://localhost:8080/"
        },
        "id": "sEiL5GfGTAVp",
        "outputId": "b6ddb87b-ca71-456f-8351-8d15c5ad7cd8"
      },
      "execution_count": 3,
      "outputs": [
        {
          "output_type": "stream",
          "name": "stdout",
          "text": [
            "Chi-square statistic: 0.27692307692307694\n",
            "P-value: 0.870696738961232\n",
            "Degrees of freedom: 2\n",
            "Expected frequencies: [[11.11111111 20.         28.88888889]\n",
            " [13.88888889 25.         36.11111111]]\n",
            "Fail to reject null hypothesis, no significant relation ship found (p-value = 0.870696738961232 ).\n"
          ]
        }
      ]
    },
    {
      "cell_type": "code",
      "source": [
        "from scipy.stats import chi2_contingency\n",
        "# defining the table\n",
        "data = [[207, 282, 241], [234, 242, 232]]\n",
        "stat, p, dof, expected = chi2_contingency(data)\n",
        "# interpret p-value\n",
        "alpha = 0.05\n",
        "print(\"p value is \" + str(p))\n",
        "if p <= alpha:\n",
        "  print('Dependent (reject H0)')\n",
        "else:\n",
        "  print('Independent (H0 holds true)')"
      ],
      "metadata": {
        "colab": {
          "base_uri": "https://localhost:8080/"
        },
        "id": "4C__TPP1TSfq",
        "outputId": "17345045-9b6a-41a8-f88a-f3697cf52160"
      },
      "execution_count": 4,
      "outputs": [
        {
          "output_type": "stream",
          "name": "stdout",
          "text": [
            "p value is 0.1031971404730939\n",
            "Independent (H0 holds true)\n"
          ]
        }
      ]
    }
  ]
}